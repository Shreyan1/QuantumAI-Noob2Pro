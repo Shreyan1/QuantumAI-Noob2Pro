{
 "cells": [
  {
   "cell_type": "markdown",
   "metadata": {},
   "source": [
    "### **Problem 2** : Creating superposition using the Hadamard (H) Gate\n",
    "A qubit in a quantum state can be in a combination of |0⟩ and |1⟩. This is called superposition.\n",
    "\n",
    "The Hadamard gate creates an equal superposition : \n",
    "- Transforms |0⟩ --> (|0⟩ + |1⟩)/√2\n",
    "- Transforms |1⟩ --> (|0⟩ - |1⟩)/√2\n",
    "\n",
    "In classical computing, a bit is always either 0 or 1. In quantum computing, a qubit in superposition is probabilistically measured as 0 or 1."
   ]
  },
  {
   "cell_type": "code",
   "execution_count": 1,
   "metadata": {},
   "outputs": [],
   "source": [
    "from qiskit import QuantumCircuit\n",
    "from qiskit_aer import Aer\n",
    "from qiskit.quantum_info import Statevector"
   ]
  },
  {
   "cell_type": "code",
   "execution_count": 3,
   "metadata": {},
   "outputs": [],
   "source": [
    "#Create a Quantum Circuit with 1 qubit and 1 classical bit\n",
    "qc = QuantumCircuit(1,1)"
   ]
  },
  {
   "cell_type": "code",
   "execution_count": 4,
   "metadata": {},
   "outputs": [
    {
     "data": {
      "text/plain": [
       "<qiskit.circuit.instructionset.InstructionSet at 0x7fe6cab0fd90>"
      ]
     },
     "execution_count": 4,
     "metadata": {},
     "output_type": "execute_result"
    }
   ],
   "source": [
    "#Apply the Hadamard gate to put the qubit in superposition\n",
    "qc.h(0) #Creates superposition"
   ]
  },
  {
   "cell_type": "code",
   "execution_count": 5,
   "metadata": {},
   "outputs": [
    {
     "data": {
      "text/plain": [
       "<qiskit.circuit.instructionset.InstructionSet at 0x7fe6c95fb580>"
      ]
     },
     "execution_count": 5,
     "metadata": {},
     "output_type": "execute_result"
    }
   ],
   "source": [
    "#Measure the qbit\n",
    "qc.measure(0,0)"
   ]
  },
  {
   "cell_type": "code",
   "execution_count": 6,
   "metadata": {},
   "outputs": [],
   "source": [
    "#Simulate the circuit\n",
    "simulator=Aer.get_backend('qasm_simulator')"
   ]
  },
  {
   "cell_type": "code",
   "execution_count": 7,
   "metadata": {},
   "outputs": [],
   "source": [
    "from qiskit.compiler import transpile\n",
    "transpiled_circuit = transpile(qc, simulator)"
   ]
  },
  {
   "cell_type": "code",
   "execution_count": 8,
   "metadata": {},
   "outputs": [],
   "source": [
    "# Run and get results\n",
    "result = simulator.run(transpiled_circuit, shots=1000).result()\n",
    "counts = result.get_counts(qc)"
   ]
  },
  {
   "cell_type": "code",
   "execution_count": 9,
   "metadata": {},
   "outputs": [
    {
     "name": "stdout",
     "output_type": "stream",
     "text": [
      "Results: {'1': 496, '0': 504}\n"
     ]
    },
    {
     "data": {
      "text/html": [
       "<pre style=\"word-wrap: normal;white-space: pre;background: #fff0;line-height: 1.1;font-family: &quot;Courier New&quot;,Courier,monospace\">     ┌───┐┌─┐\n",
       "  q: ┤ H ├┤M├\n",
       "     └───┘└╥┘\n",
       "c: 1/══════╩═\n",
       "           0 </pre>"
      ],
      "text/plain": [
       "     ┌───┐┌─┐\n",
       "  q: ┤ H ├┤M├\n",
       "     └───┘└╥┘\n",
       "c: 1/══════╩═\n",
       "           0 "
      ]
     },
     "execution_count": 9,
     "metadata": {},
     "output_type": "execute_result"
    }
   ],
   "source": [
    "print(\"Results:\", counts)\n",
    "# Visualize the circuit\n",
    "qc.draw()"
   ]
  },
  {
   "cell_type": "markdown",
   "metadata": {},
   "source": [
    "#### Challenge -> Try this:\n",
    "\n",
    "1. Apply the X gate before the Hadamard gate and see how the probabilities change. Can you explain why?\n",
    "\n",
    "    **Hint** :\n",
    "    If we apply the X gate, it flips the initial state of the qubit:\n",
    "\n",
    "    - Without the X gate: Qubit starts in |0⟩.\n",
    "    - With the X gate: Qubit starts in |1⟩.\n",
    "\n",
    "    Use the X gate (flips the qubit to |1⟩) as qc.x(0), before the H-gate implementation\n",
    "\n",
    "2. Apply an H gate again after the first H gate. What do you notice? (Hint: It restores the original state!)"
   ]
  }
 ],
 "metadata": {
  "kernelspec": {
   "display_name": ".quantumvenv",
   "language": "python",
   "name": "python3"
  },
  "language_info": {
   "codemirror_mode": {
    "name": "ipython",
    "version": 3
   },
   "file_extension": ".py",
   "mimetype": "text/x-python",
   "name": "python",
   "nbconvert_exporter": "python",
   "pygments_lexer": "ipython3",
   "version": "3.12.3"
  }
 },
 "nbformat": 4,
 "nbformat_minor": 2
}
