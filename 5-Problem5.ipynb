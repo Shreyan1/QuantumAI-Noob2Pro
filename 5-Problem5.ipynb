{
 "cells": [
  {
   "cell_type": "markdown",
   "metadata": {},
   "source": [
    "### Problem 5: Quantum State Classification\n",
    "--->> This problem introduces the idea of classifying quantum states based on measurement outcomes. We'll use a basic circuit to simulate a binary classification task.\n",
    "\n",
    "Imagine you have two types of states:\n",
    "\n",
    "- **State 1**: ∣0⟩ (pure state).\n",
    "- **State 2**: (∣0⟩+∣1⟩)/√2  (superposition state).\n",
    "\n",
    "The goal is to measure the state and classify it based on the probability of obtaining ∣0⟩.\n",
    "\n",
    "\n",
    "**Approach :** \n",
    "1. Prepare a qubit in one of the two states (pure or superposition).\n",
    "2. Measure the qubit in the computational basis (∣0⟩,∣1⟩).\n",
    "3. Classify the state based on the measurement results.\n",
    "    - If ∣0⟩ occurs more than 50% of the time, classify as State 1.\n",
    "    - Otherwise, classify as State 2."
   ]
  },
  {
   "cell_type": "code",
   "execution_count": 1,
   "metadata": {},
   "outputs": [],
   "source": [
    "from qiskit import QuantumCircuit\n",
    "from qiskit_aer import Aer\n",
    "from qiskit.compiler import transpile"
   ]
  },
  {
   "cell_type": "code",
   "execution_count": 2,
   "metadata": {},
   "outputs": [],
   "source": [
    "# Function to prepare the quantum state\n",
    "def prepare_state(state_type):\n",
    "    qc = QuantumCircuit(1, 1)  # 1 qubit, 1 classical bit\n",
    "    if state_type == \"superposition\":\n",
    "        qc.h(0)  # Apply Hadamard gate for superposition\n",
    "    return qc"
   ]
  },
  {
   "cell_type": "code",
   "execution_count": 3,
   "metadata": {},
   "outputs": [],
   "source": [
    "# Function to measure the state and classify\n",
    "def classify_state(state_type, shots=1024):\n",
    "    # Prepare the state\n",
    "    qc = prepare_state(state_type)\n",
    "    \n",
    "    # Measure the qubit\n",
    "    qc.measure(0, 0)\n",
    "    \n",
    "    # Simulate the circuit\n",
    "    simulator = Aer.get_backend('qasm_simulator')\n",
    "    transpiled_circuit = transpile(qc, simulator)\n",
    "    job = simulator.run(transpiled_circuit, shots=1000)\n",
    "    result = job.result()\n",
    "\n",
    "    counts = result.get_counts()\n",
    "    \n",
    "    # Analyze measurement results\n",
    "    prob_0 = counts.get('0', 0) / shots\n",
    "    prob_1 = counts.get('1', 0) / shots # or prob_1 = (1 - prob_0)\n",
    "\n",
    "    \"\"\"\n",
    "    The decision-making could have equivalently been based on prob_1. \n",
    "    However, directly using prob_1 is unnecessary in this binary classification setup.\n",
    "    But still if we want to use we can do the following classification logic as - \n",
    "    \n",
    "    if prob_1 > 0.5:\n",
    "        classification = \"State 2 (Superposition)\"\n",
    "    else:\n",
    "        classification = \"State 1 (|0⟩)\"\n",
    "\n",
    "    But let us just stick with prob_0 logic only\n",
    "    \"\"\"\n",
    "    \n",
    "    # Classification logic\n",
    "    if prob_0 > 0.5:\n",
    "        classification = \"State 1 (|0⟩)\"\n",
    "    else:\n",
    "        classification = \"State 2 (Superposition)\"\n",
    "    \n",
    "    return counts, classification"
   ]
  },
  {
   "cell_type": "code",
   "execution_count": 4,
   "metadata": {},
   "outputs": [
    {
     "name": "stdout",
     "output_type": "stream",
     "text": [
      "Testing State 1:\n",
      "Counts: {'0': 1000}\n",
      "Classification: State 1 (|0⟩)\n",
      "\n",
      "Testing State 2:\n",
      "Counts: {'1': 505, '0': 495}\n",
      "Classification: State 2 (Superposition)\n"
     ]
    }
   ],
   "source": [
    "# Test with both states\n",
    "print(\"Testing State 1:\")\n",
    "counts, classification = classify_state(\"pure\")\n",
    "print(\"Counts:\", counts)\n",
    "print(\"Classification:\", classification)\n",
    "\n",
    "print(\"\\nTesting State 2:\")\n",
    "counts, classification = classify_state(\"superposition\")\n",
    "print(\"Counts:\", counts)\n",
    "print(\"Classification:\", classification)"
   ]
  },
  {
   "cell_type": "markdown",
   "metadata": {},
   "source": [
    "From the output :\n",
    "\n",
    "- State 1: We should see ∣0⟩ occurring nearly 100% of the time.\n",
    "- State 2: ∣0⟩ and ∣1⟩ should appear roughly 50% each."
   ]
  },
  {
   "cell_type": "markdown",
   "metadata": {},
   "source": [
    "#### How This Relates to Quantum AI :\n",
    "- **Quantum Classification:** You’re simulating a binary classification task, a key concept in machine learning.\n",
    "- **Quantum Measurement:** Measurement results determine the \"class\" of the quantum state.\n",
    "- **Quantum Feature Encoding:** Preparing states is analogous to encoding features into quantum systems.\n",
    "- **Probability Interpretation:** Quantum AI leverages probabilities for predictions, similar to classical probabilistic models."
   ]
  }
 ],
 "metadata": {
  "kernelspec": {
   "display_name": ".quantumvenv",
   "language": "python",
   "name": "python3"
  },
  "language_info": {
   "codemirror_mode": {
    "name": "ipython",
    "version": 3
   },
   "file_extension": ".py",
   "mimetype": "text/x-python",
   "name": "python",
   "nbconvert_exporter": "python",
   "pygments_lexer": "ipython3",
   "version": "3.12.3"
  }
 },
 "nbformat": 4,
 "nbformat_minor": 2
}
