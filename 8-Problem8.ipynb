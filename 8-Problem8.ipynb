{
 "cells": [
  {
   "cell_type": "markdown",
   "metadata": {},
   "source": [
    "### Problem 8: Quantum Principal Component Analysis (QPCA)\n",
    "\n",
    "**What is QPCA?**\n",
    "\n",
    "QPCA is the quantum counterpart of classical PCA. It is used to:\n",
    "- Extract the most significant components (principal components) of a dataset.\n",
    "- Reduce the dimensionality of data while preserving important features.\n",
    "\n",
    "In QPCA:\n",
    "\n",
    "- The dataset is encoded as a quantum density matrix.\n",
    "- Eigenvalues and eigenvectors of the density matrix represent the principal components.\n",
    "\n",
    "**Why is it Useful?**\n",
    "- QPCA can efficiently analyze large datasets encoded in quantum states.\n",
    "- It serves as a preprocessing step for quantum machine learning algorithms.\n",
    "\n",
    "\n",
    "**Goal** : Find the principal components of a dataset encoded as quantum states.\n",
    "\n",
    "**Example Dataset:** \n",
    "Encode a 2D dataset:\n",
    "\n",
    "Data Points: \n",
    "\n",
    "Data Points: {(0.2,0.8),(0.5,0.5),(0.8,0.2)}\n",
    "Each data point corresponds to a quantum state:\n",
    "∣v_i⟩ = cos(x_i)∣0⟩ + sin(x_i)∣1⟩\n",
    "\n",
    "**Steps to Solve:**\n",
    "- **Data Encoding:** Encode the dataset as quantum states.\n",
    "- **Density Matrix Construction:** Build a density matrix ρ, where ∣v_i⟩ are the quantum states representing the data points.\n",
    "- **Eigenvalue Decomposition:** Extract the eigenvalues and eigenvectors of ρ. The eigenvectors with the largest eigenvalues are the principal components.\n",
    "- **Measurement:** Measure the quantum circuit to observe the principal components."
   ]
  },
  {
   "cell_type": "code",
   "execution_count": 1,
   "metadata": {},
   "outputs": [],
   "source": [
    "import numpy as np\n",
    "from qiskit import QuantumCircuit\n",
    "from qiskit.quantum_info import Statevector\n",
    "from qiskit.primitives import Sampler\n",
    "\n",
    "def encode_data(points):\n",
    "    \"\"\"Encode dataset into quantum states.\"\"\"\n",
    "    states = []\n",
    "    for x in points:\n",
    "        qc = QuantumCircuit(1)\n",
    "        qc.ry(2 * x, 0)\n",
    "        states.append(Statevector.from_instruction(qc))\n",
    "    return states\n",
    "\n"
   ]
  },
  {
   "cell_type": "code",
   "execution_count": 2,
   "metadata": {},
   "outputs": [],
   "source": [
    "# Step 2: Build Density Matrix\n",
    "def build_density_matrix(states):\n",
    "    \"\"\"Construct density matrix from quantum states.\"\"\"\n",
    "    N = len(states)\n",
    "    rho = sum([np.outer(s.data, s.data.conj()) for s in states]) / N\n",
    "    return rho"
   ]
  },
  {
   "cell_type": "code",
   "execution_count": 3,
   "metadata": {},
   "outputs": [],
   "source": [
    "\n",
    "def compute_principal_components(rho):\n",
    "    \"\"\"Find eigenvalues and eigenvectors of the density matrix.\"\"\"\n",
    "    eigvals, eigvecs = np.linalg.eigh(rho)\n",
    "    \n",
    "    # Sort eigenvalues and eigenvectors in descending order\n",
    "    idx = eigvals.argsort()[::-1]\n",
    "    eigvals = eigvals[idx]\n",
    "    eigvecs = eigvecs[:, idx]\n",
    "    \n",
    "    return eigvals, eigvecs"
   ]
  },
  {
   "cell_type": "code",
   "execution_count": 4,
   "metadata": {},
   "outputs": [],
   "source": [
    "# Data Points\n",
    "data_points = [0.2, 0.5, 0.8]  # Simplified dataset\n",
    "\n",
    "# Encode Data\n",
    "states = encode_data(data_points)\n",
    "\n",
    "# Build Density Matrix\n",
    "rho = build_density_matrix(states)\n",
    "\n",
    "# Compute Principal Components\n",
    "eigenvalues, eigenvectors = compute_principal_components(rho)"
   ]
  },
  {
   "cell_type": "code",
   "execution_count": 5,
   "metadata": {},
   "outputs": [
    {
     "name": "stdout",
     "output_type": "stream",
     "text": [
      "Eigenvalues (Principal Components' Importance): [0.94177854 0.05822146]\n",
      "Eigenvectors (Principal Components):\n",
      "[[-0.87758256+0.j  0.47942554+0.j]\n",
      " [-0.47942554+0.j -0.87758256+0.j]]\n"
     ]
    }
   ],
   "source": [
    "# Output Results\n",
    "print(\"Eigenvalues (Principal Components' Importance):\", eigenvalues)\n",
    "print(\"Eigenvectors (Principal Components):\")\n",
    "print(eigenvectors)"
   ]
  },
  {
   "cell_type": "code",
   "execution_count": null,
   "metadata": {},
   "outputs": [],
   "source": []
  }
 ],
 "metadata": {
  "kernelspec": {
   "display_name": ".quantumvenv",
   "language": "python",
   "name": "python3"
  },
  "language_info": {
   "codemirror_mode": {
    "name": "ipython",
    "version": 3
   },
   "file_extension": ".py",
   "mimetype": "text/x-python",
   "name": "python",
   "nbconvert_exporter": "python",
   "pygments_lexer": "ipython3",
   "version": "3.12.3"
  }
 },
 "nbformat": 4,
 "nbformat_minor": 2
}
