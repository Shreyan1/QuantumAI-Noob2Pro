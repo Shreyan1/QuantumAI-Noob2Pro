{
 "cells": [
  {
   "cell_type": "markdown",
   "metadata": {},
   "source": [
    "### **Problem 4 :** Quantum Teleportation\n",
    "The goal of quantum teleportation is to transfer the state of one qubit to another, using entanglement and classical communication."
   ]
  },
  {
   "cell_type": "markdown",
   "metadata": {},
   "source": [
    "Concept:\n",
    "1. Entanglement: Create an entangled pair of qubits, A and B.\n",
    "2. State Preparation: Prepare a third qubit, Q, in an arbitrary quantum state (the state you want to \"teleport\").\n",
    "3. Measurement and Communication:\n",
    "    - Measure Q and A in a specific basis (using CNOT and Hadamard gates).\n",
    "    - Send the results of the measurement (classical bits) to the owner of B.\n",
    "\n",
    "4. Reconstruction:\n",
    "    - Based on the received classical bits, apply appropriate gates to \n",
    "B to recreate Q's state.\n"
   ]
  },
  {
   "cell_type": "markdown",
   "metadata": {},
   "source": [
    "Circuit Overview :\n",
    "We’ll create a 3-qubit circuit:\n",
    "- Q: The qubit to be teleported.\n",
    "- A: Entangled with \n",
    "- B: Receives Q's state after teleportation."
   ]
  },
  {
   "cell_type": "code",
   "execution_count": 1,
   "metadata": {},
   "outputs": [],
   "source": [
    "from qiskit import QuantumCircuit, ClassicalRegister, QuantumRegister\n",
    "from qiskit_aer import Aer\n",
    "from qiskit.compiler import transpile"
   ]
  },
  {
   "cell_type": "code",
   "execution_count": 2,
   "metadata": {},
   "outputs": [],
   "source": [
    "# Create quantum and classical registers\n",
    "q = QuantumRegister(3, 'q')  # 3 qubits\n",
    "c = ClassicalRegister(2, 'c')  # 2 classical bits"
   ]
  },
  {
   "cell_type": "code",
   "execution_count": 3,
   "metadata": {},
   "outputs": [
    {
     "data": {
      "text/plain": [
       "<qiskit.circuit.instructionset.InstructionSet at 0x7f4d956f6800>"
      ]
     },
     "execution_count": 3,
     "metadata": {},
     "output_type": "execute_result"
    }
   ],
   "source": [
    "# Create quantum circuit with registers\n",
    "qc = QuantumCircuit(q, c)\n",
    "\n",
    "# Prepare the state to teleport (arbitrary state on Q)\n",
    "qc.h(q[0])  # Create a superposition state on Q\n",
    "qc.p(3.14 / 4, q[0])  # Add a phase for complexity"
   ]
  },
  {
   "cell_type": "code",
   "execution_count": 4,
   "metadata": {},
   "outputs": [
    {
     "data": {
      "text/plain": [
       "<qiskit.circuit.instructionset.InstructionSet at 0x7f4da9f04ca0>"
      ]
     },
     "execution_count": 4,
     "metadata": {},
     "output_type": "execute_result"
    }
   ],
   "source": [
    "# Create entanglement between qubits A and B\n",
    "qc.h(q[1])  # Hadamard gate on A\n",
    "qc.cx(q[1], q[2])  # CNOT between A (control) and B (target)\n",
    "\n",
    "# Entangle Q with A and measure\n",
    "qc.cx(q[0], q[1])  # CNOT between Q (control) and A (target)\n",
    "qc.h(q[0])  # Hadamard gate on Q\n"
   ]
  },
  {
   "cell_type": "code",
   "execution_count": 5,
   "metadata": {},
   "outputs": [
    {
     "data": {
      "text/plain": [
       "<qiskit.circuit.instructionset.InstructionSet at 0x7f4da8bfd9f0>"
      ]
     },
     "execution_count": 5,
     "metadata": {},
     "output_type": "execute_result"
    }
   ],
   "source": [
    "# Measure Q and A\n",
    "qc.measure(q[0], c[0])  # Measure Q (stored in classical bit 0)\n",
    "qc.measure(q[1], c[1])  # Measure A (stored in classical bit 1)"
   ]
  },
  {
   "cell_type": "code",
   "execution_count": 6,
   "metadata": {},
   "outputs": [
    {
     "name": "stderr",
     "output_type": "stream",
     "text": [
      "/tmp/ipykernel_11997/530418690.py:3: DeprecationWarning: The method ``qiskit.circuit.instructionset.InstructionSet.c_if()`` is deprecated as of qiskit 1.3.0. It will be removed in 2.0.0.\n",
      "  qc.x(q[2]).c_if(c, 1)  # Apply X gate if first classical bit is 1\n",
      "/tmp/ipykernel_11997/530418690.py:4: DeprecationWarning: The method ``qiskit.circuit.instructionset.InstructionSet.c_if()`` is deprecated as of qiskit 1.3.0. It will be removed in 2.0.0.\n",
      "  qc.z(q[2]).c_if(c, 2)  # Apply Z gate if second classical bit is 1\n"
     ]
    },
    {
     "data": {
      "text/plain": [
       "<qiskit.circuit.instructionset.InstructionSet at 0x7f4da8bdd6f0>"
      ]
     },
     "execution_count": 6,
     "metadata": {},
     "output_type": "execute_result"
    }
   ],
   "source": [
    "# Quantum teleportation correction based on measurement\n",
    "# Modern approach for conditional operations\n",
    "qc.x(q[2]).c_if(c, 1)  # Apply X gate if first classical bit is 1\n",
    "qc.z(q[2]).c_if(c, 2)  # Apply Z gate if second classical bit is 1\n"
   ]
  },
  {
   "cell_type": "code",
   "execution_count": 7,
   "metadata": {},
   "outputs": [],
   "source": [
    "# Simulator\n",
    "simulator = Aer.get_backend('qasm_simulator')\n"
   ]
  },
  {
   "cell_type": "code",
   "execution_count": 8,
   "metadata": {},
   "outputs": [],
   "source": [
    "# Transpile and run the circuit\n",
    "transpiled_circuit = transpile(qc, simulator)\n",
    "job = simulator.run(transpiled_circuit, shots=1000)\n",
    "result = job.result()\n"
   ]
  },
  {
   "cell_type": "code",
   "execution_count": 9,
   "metadata": {},
   "outputs": [
    {
     "name": "stdout",
     "output_type": "stream",
     "text": [
      "Measurement Results: {'11': 243, '00': 238, '10': 259, '01': 260}\n"
     ]
    }
   ],
   "source": [
    "# Get results\n",
    "counts = result.get_counts(qc)\n",
    "print(\"Measurement Results:\", counts)"
   ]
  },
  {
   "cell_type": "code",
   "execution_count": 10,
   "metadata": {},
   "outputs": [
    {
     "data": {
      "text/html": [
       "<pre style=\"word-wrap: normal;white-space: pre;background: #fff0;line-height: 1.1;font-family: &quot;Courier New&quot;,Courier,monospace\">     ┌───┐┌──────────┐     ┌───┐┌─┐              \n",
       "q_0: ┤ H ├┤ P(0.785) ├──■──┤ H ├┤M├──────────────\n",
       "     ├───┤└──────────┘┌─┴─┐└┬─┬┘└╥┘              \n",
       "q_1: ┤ H ├─────■──────┤ X ├─┤M├──╫───────────────\n",
       "     └───┘   ┌─┴─┐    └───┘ └╥┘  ║  ┌───┐  ┌───┐ \n",
       "q_2: ────────┤ X ├───────────╫───╫──┤ X ├──┤ Z ├─\n",
       "             └───┘           ║   ║  └─╥─┘  └─╥─┘ \n",
       "                             ║   ║ ┌──╨──┐┌──╨──┐\n",
       "c: 2/════════════════════════╩═══╩═╡ 0x1 ╞╡ 0x2 ╞\n",
       "                             1   0 └─────┘└─────┘</pre>"
      ],
      "text/plain": [
       "     ┌───┐┌──────────┐     ┌───┐┌─┐              \n",
       "q_0: ┤ H ├┤ P(0.785) ├──■──┤ H ├┤M├──────────────\n",
       "     ├───┤└──────────┘┌─┴─┐└┬─┬┘└╥┘              \n",
       "q_1: ┤ H ├─────■──────┤ X ├─┤M├──╫───────────────\n",
       "     └───┘   ┌─┴─┐    └───┘ └╥┘  ║  ┌───┐  ┌───┐ \n",
       "q_2: ────────┤ X ├───────────╫───╫──┤ X ├──┤ Z ├─\n",
       "             └───┘           ║   ║  └─╥─┘  └─╥─┘ \n",
       "                             ║   ║ ┌──╨──┐┌──╨──┐\n",
       "c: 2/════════════════════════╩═══╩═╡ 0x1 ╞╡ 0x2 ╞\n",
       "                             1   0 └─────┘└─────┘"
      ]
     },
     "execution_count": 10,
     "metadata": {},
     "output_type": "execute_result"
    }
   ],
   "source": [
    "# Circuit visualization\n",
    "qc.draw()"
   ]
  }
 ],
 "metadata": {
  "kernelspec": {
   "display_name": ".quantumvenv",
   "language": "python",
   "name": "python3"
  },
  "language_info": {
   "codemirror_mode": {
    "name": "ipython",
    "version": 3
   },
   "file_extension": ".py",
   "mimetype": "text/x-python",
   "name": "python",
   "nbconvert_exporter": "python",
   "pygments_lexer": "ipython3",
   "version": "3.12.3"
  }
 },
 "nbformat": 4,
 "nbformat_minor": 2
}
