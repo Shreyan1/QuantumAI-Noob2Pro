{
 "cells": [
  {
   "cell_type": "markdown",
   "metadata": {},
   "source": [
    "### Problem 9.1 : Applying QSVM with PennyLane Circle Dataset\n",
    "\n",
    "PennyLane is an open-source software framework for quantum machine learning, quantum chemistry, and quantum computing, with the ability to run on all hardware.\n",
    "\n",
    "Link - https://pennylane.ai/datasets/\n"
   ]
  },
  {
   "cell_type": "code",
   "execution_count": 1,
   "metadata": {},
   "outputs": [],
   "source": [
    "# !pip install pennylane"
   ]
  },
  {
   "cell_type": "code",
   "execution_count": 2,
   "metadata": {},
   "outputs": [],
   "source": [
    "import pennylane as qml\n",
    "import numpy as np\n",
    "\n",
    "from qiskit.circuit.library import ZZFeatureMap\n",
    "from qiskit_machine_learning.kernels import FidelityQuantumKernel\n",
    "\n",
    "from sklearn.model_selection import train_test_split\n",
    "from sklearn.preprocessing import StandardScaler\n",
    "from sklearn.metrics import accuracy_score, classification_report\n",
    "import matplotlib.pyplot as plt"
   ]
  },
  {
   "cell_type": "code",
   "execution_count": 3,
   "metadata": {},
   "outputs": [],
   "source": [
    "def load_pennylane_data(n_samples=100, noise=0.1):\n",
    "    \"\"\"\n",
    "    Load and prepare the PennyLane circle dataset\n",
    "    \"\"\"\n",
    "    X, y = qml.datasets.circle(n_samples=n_samples, noise=noise)\n",
    "    \n",
    "    # Scale the features\n",
    "    scaler = StandardScaler()\n",
    "    X_scaled = scaler.fit_transform(X)\n",
    "    \n",
    "    return X_scaled, y, X  # Return both scaled and unscaled data for visualization\n"
   ]
  },
  {
   "cell_type": "code",
   "execution_count": 4,
   "metadata": {},
   "outputs": [],
   "source": [
    "def visualize_data(X, y, title=\"Circle Dataset\"):\n",
    "    \"\"\"\n",
    "    Visualize the 2D dataset\n",
    "    \"\"\"\n",
    "    plt.figure(figsize=(10, 8))\n",
    "    plt.scatter(X[y == 1][:, 0], X[y == 1][:, 1], c='b', marker='o', label='Class 1', alpha=0.6)\n",
    "    plt.scatter(X[y == -1][:, 0], X[y == -1][:, 1], c='r', marker='x', label='Class -1', alpha=0.6)\n",
    "    plt.title(title)\n",
    "    plt.xlabel(\"Feature 1\")\n",
    "    plt.ylabel(\"Feature 2\")\n",
    "    plt.legend()\n",
    "    plt.grid(True)\n",
    "    plt.show()"
   ]
  },
  {
   "cell_type": "code",
   "execution_count": 5,
   "metadata": {},
   "outputs": [],
   "source": [
    "def create_and_train_qsvm(X_train, X_test, y_train, y_test):\n",
    "    \"\"\"\n",
    "    Create and train the QSVM model\n",
    "    \"\"\"\n",
    "    # Create quantum kernel\n",
    "    feature_map = ZZFeatureMap(\n",
    "        feature_dimension=2,  # Circle dataset has 2 features\n",
    "        reps=3,              # Increased reps for better performance\n",
    "        entanglement='full'  # Full entanglement for better feature mapping\n",
    "    )\n",
    "    \n",
    "    quantum_kernel = FidelityQuantumKernel(\n",
    "        feature_map=feature_map\n",
    "    )\n",
    "    \n",
    "    # Compute kernel matrices\n",
    "    print(\"Computing kernel matrices...\")\n",
    "    kernel_matrix_train = quantum_kernel.evaluate(X_train, X_train)\n",
    "    kernel_matrix_test = quantum_kernel.evaluate(X_test, X_train)\n",
    "    \n",
    "    # Train SVM\n",
    "    from sklearn.svm import SVC\n",
    "    svm = SVC(kernel='precomputed')\n",
    "    svm.fit(kernel_matrix_train, y_train)\n",
    "    \n",
    "    # Make predictions\n",
    "    y_pred = svm.predict(kernel_matrix_test)\n",
    "    \n",
    "    return y_pred"
   ]
  },
  {
   "cell_type": "code",
   "execution_count": 6,
   "metadata": {},
   "outputs": [],
   "source": [
    "def plot_decision_regions(X, y, model, quantum_kernel, title=\"Decision Regions\"):\n",
    "    \"\"\"\n",
    "    Plot decision regions for the model\n",
    "    \"\"\"\n",
    "    x_min, x_max = X[:, 0].min() - 0.5, X[:, 0].max() + 0.5\n",
    "    y_min, y_max = X[:, 1].min() - 0.5, X[:, 1].max() + 0.5\n",
    "    \n",
    "    # Create a mesh grid\n",
    "    xx, yy = np.meshgrid(np.arange(x_min, x_max, 0.02),\n",
    "                        np.arange(y_min, y_max, 0.02))\n",
    "    \n",
    "    # Create mesh points\n",
    "    mesh_points = np.c_[xx.ravel(), yy.ravel()]\n",
    "    \n",
    "    # Compute kernel between mesh points and training data\n",
    "    kernel_matrix = quantum_kernel.evaluate(mesh_points, X)\n",
    "    \n",
    "    # Make predictions\n",
    "    Z = model.predict(kernel_matrix)\n",
    "    Z = Z.reshape(xx.shape)\n",
    "    \n",
    "    # Plot\n",
    "    plt.figure(figsize=(10, 8))\n",
    "    plt.contourf(xx, yy, Z, alpha=0.4)\n",
    "    plt.scatter(X[y == 1][:, 0], X[y == 1][:, 1], c='b', marker='o', label='Class 1')\n",
    "    plt.scatter(X[y == -1][:, 0], X[y == -1][:, 1], c='r', marker='x', label='Class -1')\n",
    "    plt.title(title)\n",
    "    plt.xlabel(\"Feature 1\")\n",
    "    plt.ylabel(\"Feature 2\")\n",
    "    plt.legend()\n",
    "    plt.show()\n"
   ]
  },
  {
   "cell_type": "code",
   "execution_count": 7,
   "metadata": {},
   "outputs": [
    {
     "name": "stdout",
     "output_type": "stream",
     "text": [
      "Loading PennyLane circle dataset...\n"
     ]
    },
    {
     "ename": "AttributeError",
     "evalue": "module 'pennylane' has no attribute 'datasets'",
     "output_type": "error",
     "traceback": [
      "\u001b[0;31m---------------------------------------------------------------------------\u001b[0m",
      "\u001b[0;31mAttributeError\u001b[0m                            Traceback (most recent call last)",
      "Cell \u001b[0;32mIn[7], line 3\u001b[0m\n\u001b[1;32m      1\u001b[0m \u001b[38;5;66;03m# Load and prepare data\u001b[39;00m\n\u001b[1;32m      2\u001b[0m \u001b[38;5;28mprint\u001b[39m(\u001b[38;5;124m\"\u001b[39m\u001b[38;5;124mLoading PennyLane circle dataset...\u001b[39m\u001b[38;5;124m\"\u001b[39m)\n\u001b[0;32m----> 3\u001b[0m X_scaled, y, X_original \u001b[38;5;241m=\u001b[39m \u001b[43mload_pennylane_data\u001b[49m\u001b[43m(\u001b[49m\u001b[43mn_samples\u001b[49m\u001b[38;5;241;43m=\u001b[39;49m\u001b[38;5;241;43m100\u001b[39;49m\u001b[43m,\u001b[49m\u001b[43m \u001b[49m\u001b[43mnoise\u001b[49m\u001b[38;5;241;43m=\u001b[39;49m\u001b[38;5;241;43m0.1\u001b[39;49m\u001b[43m)\u001b[49m\n\u001b[1;32m      5\u001b[0m \u001b[38;5;66;03m# Visualize original data\u001b[39;00m\n\u001b[1;32m      6\u001b[0m \u001b[38;5;28mprint\u001b[39m(\u001b[38;5;124m\"\u001b[39m\u001b[38;5;130;01m\\n\u001b[39;00m\u001b[38;5;124mVisualizing original dataset...\u001b[39m\u001b[38;5;124m\"\u001b[39m)\n",
      "Cell \u001b[0;32mIn[3], line 5\u001b[0m, in \u001b[0;36mload_pennylane_data\u001b[0;34m(n_samples, noise)\u001b[0m\n\u001b[1;32m      1\u001b[0m \u001b[38;5;28;01mdef\u001b[39;00m \u001b[38;5;21mload_pennylane_data\u001b[39m(n_samples\u001b[38;5;241m=\u001b[39m\u001b[38;5;241m100\u001b[39m, noise\u001b[38;5;241m=\u001b[39m\u001b[38;5;241m0.1\u001b[39m):\n\u001b[1;32m      2\u001b[0m \u001b[38;5;250m    \u001b[39m\u001b[38;5;124;03m\"\"\"\u001b[39;00m\n\u001b[1;32m      3\u001b[0m \u001b[38;5;124;03m    Load and prepare the PennyLane circle dataset\u001b[39;00m\n\u001b[1;32m      4\u001b[0m \u001b[38;5;124;03m    \"\"\"\u001b[39;00m\n\u001b[0;32m----> 5\u001b[0m     X, y \u001b[38;5;241m=\u001b[39m \u001b[43mqml\u001b[49m\u001b[38;5;241;43m.\u001b[39;49m\u001b[43mdatasets\u001b[49m\u001b[38;5;241m.\u001b[39mcircle(n_samples\u001b[38;5;241m=\u001b[39mn_samples, noise\u001b[38;5;241m=\u001b[39mnoise)\n\u001b[1;32m      7\u001b[0m     \u001b[38;5;66;03m# Scale the features\u001b[39;00m\n\u001b[1;32m      8\u001b[0m     scaler \u001b[38;5;241m=\u001b[39m StandardScaler()\n",
      "File \u001b[0;32m~/Documents/Github/QuantumAI-Noob2Pro/.quantumvenv/lib/python3.12/site-packages/pennylane/__init__.py:207\u001b[0m, in \u001b[0;36m__getattr__\u001b[0;34m(name)\u001b[0m\n\u001b[1;32m    200\u001b[0m     warn(\n\u001b[1;32m    201\u001b[0m         \u001b[38;5;124m\"\u001b[39m\u001b[38;5;124mDevice will no longer be accessible top level. Please access \u001b[39m\u001b[38;5;124m\"\u001b[39m\n\u001b[1;32m    202\u001b[0m         \u001b[38;5;124m\"\u001b[39m\u001b[38;5;124mthe class as pennylane.devices.LegacyDevice\u001b[39m\u001b[38;5;124m\"\u001b[39m,\n\u001b[1;32m    203\u001b[0m         PennyLaneDeprecationWarning,\n\u001b[1;32m    204\u001b[0m     )\n\u001b[1;32m    205\u001b[0m     \u001b[38;5;28;01mreturn\u001b[39;00m pennylane\u001b[38;5;241m.\u001b[39mdevices\u001b[38;5;241m.\u001b[39m_legacy_device\u001b[38;5;241m.\u001b[39mDevice  \u001b[38;5;66;03m# pylint:disable=protected-access\u001b[39;00m\n\u001b[0;32m--> 207\u001b[0m \u001b[38;5;28;01mraise\u001b[39;00m \u001b[38;5;167;01mAttributeError\u001b[39;00m(\u001b[38;5;124mf\u001b[39m\u001b[38;5;124m\"\u001b[39m\u001b[38;5;124mmodule \u001b[39m\u001b[38;5;124m'\u001b[39m\u001b[38;5;124mpennylane\u001b[39m\u001b[38;5;124m'\u001b[39m\u001b[38;5;124m has no attribute \u001b[39m\u001b[38;5;124m'\u001b[39m\u001b[38;5;132;01m{\u001b[39;00mname\u001b[38;5;132;01m}\u001b[39;00m\u001b[38;5;124m'\u001b[39m\u001b[38;5;124m\"\u001b[39m)\n",
      "\u001b[0;31mAttributeError\u001b[0m: module 'pennylane' has no attribute 'datasets'"
     ]
    }
   ],
   "source": [
    "# Load and prepare data\n",
    "print(\"Loading PennyLane circle dataset...\")\n",
    "X_scaled, y, X_original = load_pennylane_data(n_samples=100, noise=0.1)\n",
    "\n",
    "# Visualize original data\n",
    "print(\"\\nVisualizing original dataset...\")\n",
    "visualize_data(X_original, y, \"Original Circle Dataset\")\n",
    "\n",
    "# Split the data\n",
    "X_train, X_test, y_train, y_test = train_test_split(\n",
    "    X_scaled, y, test_size=0.3, random_state=42\n",
    ")\n",
    "\n",
    "# Train and evaluate QSVM\n",
    "print(\"\\nTraining QSVM...\")\n",
    "y_pred = create_and_train_qsvm(X_train, X_test, y_train, y_test)\n",
    "\n",
    "# Print results\n",
    "print(\"\\nResults:\")\n",
    "print(\"Accuracy:\", accuracy_score(y_test, y_pred))\n",
    "print(\"\\nClassification Report:\")\n",
    "print(classification_report(y_test, y_pred))"
   ]
  },
  {
   "cell_type": "code",
   "execution_count": null,
   "metadata": {},
   "outputs": [],
   "source": []
  }
 ],
 "metadata": {
  "kernelspec": {
   "display_name": ".quantumvenv",
   "language": "python",
   "name": "python3"
  },
  "language_info": {
   "codemirror_mode": {
    "name": "ipython",
    "version": 3
   },
   "file_extension": ".py",
   "mimetype": "text/x-python",
   "name": "python",
   "nbconvert_exporter": "python",
   "pygments_lexer": "ipython3",
   "version": "3.12.3"
  }
 },
 "nbformat": 4,
 "nbformat_minor": 2
}
