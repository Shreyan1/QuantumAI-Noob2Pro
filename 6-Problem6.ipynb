{
 "cells": [
  {
   "cell_type": "markdown",
   "metadata": {},
   "source": [
    "### Problem 7: Quantum Feature Encoding\n",
    "The task is to encode classical data (e.g., a numerical feature) into a quantum state.\n",
    "\n",
    "For simplicity, we’ll start with encoding a single feature into a single qubit using amplitude encoding and angle encoding.\n",
    "\n",
    "\n",
    "#### Why Feature Encoding Matters?\n",
    "Quantum algorithms require input data to be in a quantum state. The way we encode classical data directly affects the performance and interpretability of quantum AI models.\n",
    "\n",
    "- **Amplitude Encoding:** Maps data to the amplitudes of a quantum state. Efficient but requires normalization.\n",
    "- **Angle Encoding:** Encodes data as rotation angles (using gates like 𝑅x,𝑅y,𝑅z ).\n",
    "\n",
    "\n",
    "**Scenario:**\n",
    "You have two data points, x1=0.2, and x=0.8, that need to be encoded into quantum states. You’ll:\n",
    "1. Encode x1 and x2 using both amplitude and angle encoding.\n",
    "2. Visualize the encoded states.\n",
    "\n",
    "**Approach:**\n",
    "1. Use angle encoding to rotate a qubit’s state proportional to x (using 𝑅y gate).\n",
    "2. Use amplitude encoding for normalized vectors.\n",
    "3. Simulate and measure the states."
   ]
  },
  {
   "cell_type": "markdown",
   "metadata": {},
   "source": []
  }
 ],
 "metadata": {
  "language_info": {
   "name": "python"
  }
 },
 "nbformat": 4,
 "nbformat_minor": 2
}
