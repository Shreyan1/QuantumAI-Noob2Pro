{
 "cells": [
  {
   "cell_type": "markdown",
   "metadata": {},
   "source": [
    "### Problem 9 : Quantum Support Vector Machine (QSVM)\n",
    "- Support Vector Machines (SVMs) are powerful for classification tasks in classical ML. \n",
    "- Quantum Support Vector Machines (QSVMs) leverage quantum kernels to encode data into high-dimensional Hilbert space and compute similarities more efficiently.\n",
    "\n",
    "#### To Do :\n",
    "\n",
    "- **Problem Setup:** Classify simple 2D data points using a quantum kernel. Example: Two classes (labeled 0 and 1) with separable points.\n",
    "- **Quantum Feature Map:** Encode classical data into quantum states using parameterised circuits.\n",
    "- **Quantum Kernel Computation:** Compute pairwise similarity between data points using quantum circuits for training and testing points.\n",
    "- **Train QSVM:** Use the quantum kernel matrix to train a classical SVM.\n",
    "\n",
    "\n",
    "**MUST Read for reference:**\n",
    " - https://medium.com/@devmallyakarar/quantum-support-vector-machines-qsvm-using-qiskit-eee347e81d83\n",
    " - https://github.com/PatrickHuembeli/QSVM-Introduction/blob/master/Quantum%20Support%20Vector%20Machines.ipynb"
   ]
  },
  {
   "cell_type": "code",
   "execution_count": 1,
   "metadata": {},
   "outputs": [],
   "source": [
    "# !pip install qiskit qiskit-machine-learning scikit-learn numpy"
   ]
  },
  {
   "cell_type": "code",
   "execution_count": 2,
   "metadata": {},
   "outputs": [],
   "source": [
    "from qiskit.circuit.library import ZZFeatureMap\n",
    "from qiskit_machine_learning.kernels import FidelityQuantumKernel\n",
    "from qiskit.primitives import StatevectorSampler\n",
    "\n",
    "from sklearn.datasets import make_classification\n",
    "from sklearn.svm import SVC\n",
    "from sklearn.model_selection import train_test_split\n",
    "from sklearn.metrics import accuracy_score\n",
    "\n",
    "import numpy as np"
   ]
  },
  {
   "cell_type": "code",
   "execution_count": 3,
   "metadata": {},
   "outputs": [],
   "source": [
    "# Step 1: Generate a Simple Dataset\n",
    "def create_dataset():\n",
    "    \"\"\"Generate a simple binary classification dataset.\"\"\"\n",
    "    X, y = make_classification(\n",
    "        n_samples=20, \n",
    "        n_features=2, \n",
    "        n_classes=2, \n",
    "        n_informative=2, \n",
    "        n_redundant=0, \n",
    "        random_state=42\n",
    "    )\n",
    "    return train_test_split(X, y, test_size=0.3, random_state=42)"
   ]
  },
  {
   "cell_type": "markdown",
   "metadata": {},
   "source": [
    "The **ZZFeatureMap** is a quantum circuit that helps encode classical data into quantum states. Let me explain it simply:\n",
    "\n",
    "It gets its name \"ZZ\" from how it works:\n",
    "1. First, it applies single-qubit rotations (Z gates) based on your input features\n",
    "2. Then it applies two-qubit ZZ operations between pairs of qubits, which creates entanglement\n",
    "3. This pattern can be repeated multiple times (that's what the \"reps\" parameter controls)\n",
    "\n",
    "Think of it like this - if you have classical data points (like coordinates in 2D space), the ZZFeatureMap transforms them into quantum states in a way that:\n",
    "- Similar classical points should produce similar quantum states\n",
    "- Different classical points should produce different quantum states\n",
    "\n",
    "It's particularly useful for quantum machine learning because it can capture non-linear relationships in your data through quantum entanglement, which is exactly what you want for tasks like classification.\n",
    "\n",
    "When you set `feature_dimension=2` and `entanglement='linear'` like in the code below, it means:\n",
    "- It will handle 2D input data (points with x and y coordinates)\n",
    "- The entangling operations will be applied in a linear chain (first qubit entangled with second, second with third, etc.)\n"
   ]
  },
  {
   "cell_type": "code",
   "execution_count": 4,
   "metadata": {},
   "outputs": [],
   "source": [
    "def create_quantum_kernel():\n",
    "    \"\"\"Create a quantum kernel using ZZFeatureMap.\"\"\"\n",
    "    feature_map = ZZFeatureMap(\n",
    "        feature_dimension=2,\n",
    "        reps=2,\n",
    "        entanglement='linear'\n",
    "    )\n",
    "    \n",
    "    # Return just the kernel object, not a tuple\n",
    "    return FidelityQuantumKernel(\n",
    "        feature_map=feature_map\n",
    "    )"
   ]
  },
  {
   "cell_type": "markdown",
   "metadata": {},
   "source": [
    "A fidelity based quantum kernel FidelityQuantumKernel is used here. This is a direct replacement of the already existing QuantumKernel. The difference is that the new class takes a fidelity instance to estimate overlaps and construct a kernel matrix.\n",
    "\n",
    "**Fidelity** is a measure of how close the final quantum state of the real-life qubits is to the ideal case. If the fidelity of logic gates is too low, calculations will fail because errors will accumulate faster than they can be corrected."
   ]
  },
  {
   "cell_type": "code",
   "execution_count": 5,
   "metadata": {},
   "outputs": [
    {
     "name": "stdout",
     "output_type": "stream",
     "text": [
      "<class 'qiskit_machine_learning.kernels.fidelity_quantum_kernel.FidelityQuantumKernel'>\n"
     ]
    }
   ],
   "source": [
    "quantum_kernel = create_quantum_kernel()\n",
    "print(type(quantum_kernel))"
   ]
  },
  {
   "cell_type": "code",
   "execution_count": 6,
   "metadata": {},
   "outputs": [],
   "source": [
    "def train_and_evaluate_qsvm(X_train, X_test, y_train, y_test, quantum_kernel):\n",
    "    \"\"\"Train and evaluate the quantum SVM model.\"\"\"\n",
    "    \n",
    "    # Compute kernel matrices\n",
    "    kernel_matrix_train = quantum_kernel.evaluate(X_train, X_train)\n",
    "    kernel_matrix_test = quantum_kernel.evaluate(X_test, X_train)\n",
    "    \n",
    "    # Train SVM with quantum kernel\n",
    "    svm = SVC(kernel='precomputed')\n",
    "    svm.fit(kernel_matrix_train, y_train)\n",
    "    \n",
    "    # Make predictions\n",
    "    y_pred = svm.predict(kernel_matrix_test)\n",
    "    accuracy = accuracy_score(y_test, y_pred)\n",
    "    \n",
    "    return y_pred, accuracy"
   ]
  },
  {
   "cell_type": "code",
   "execution_count": 7,
   "metadata": {},
   "outputs": [
    {
     "name": "stdout",
     "output_type": "stream",
     "text": [
      "Test Accuracy: 0.5\n",
      "Predicted Labels: [1 1 1 0 0 1]\n",
      "True Labels: [0 0 1 0 0 0]\n"
     ]
    }
   ],
   "source": [
    "# Step 1: Generate dataset\n",
    "X_train, X_test, y_train, y_test = create_dataset()\n",
    "\n",
    "# Step 2: Create quantum kernel\n",
    "quantum_kernel = create_quantum_kernel()\n",
    "\n",
    "# Step 3: Train and evaluate model\n",
    "y_pred, accuracy = train_and_evaluate_qsvm(\n",
    "    X_train, X_test, y_train, y_test, quantum_kernel\n",
    ")\n",
    "\n",
    "# Display results\n",
    "print(\"Test Accuracy:\", accuracy)\n",
    "print(\"Predicted Labels:\", y_pred)\n",
    "print(\"True Labels:\", y_test)"
   ]
  },
  {
   "cell_type": "markdown",
   "metadata": {},
   "source": [
    "#### Expected Output\n",
    "- Accuracy: Percentage of correctly classified test points.\n",
    "- Predicted Labels: Classification results from the QSVM.\n",
    "- True Labels: Ground truth for the test data."
   ]
  }
 ],
 "metadata": {
  "kernelspec": {
   "display_name": ".quantumvenv",
   "language": "python",
   "name": "python3"
  },
  "language_info": {
   "codemirror_mode": {
    "name": "ipython",
    "version": 3
   },
   "file_extension": ".py",
   "mimetype": "text/x-python",
   "name": "python",
   "nbconvert_exporter": "python",
   "pygments_lexer": "ipython3",
   "version": "3.12.3"
  }
 },
 "nbformat": 4,
 "nbformat_minor": 2
}
