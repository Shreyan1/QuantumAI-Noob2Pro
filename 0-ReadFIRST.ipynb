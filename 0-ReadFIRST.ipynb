{
 "cells": [
  {
   "cell_type": "markdown",
   "metadata": {},
   "source": [
    "1. Understand the DIRAC NOTATIONS and the basic representations here - https://youtu.be/MrLf6m_AFc0?si=Cjjj40mY11QCPNOd&t=101\n",
    "2. Introduction to Quantum Computing - https://www.youtube.com/playlist?list=PLOFEBzvs-VvrXTMy5Y2IqmSaUjfnhvBHR\n",
    "3. Best resources to learn  https://github.com/Qiskit/platypus/tree/main/notebooks/summer-school/2021/resources\n",
    "-----\n",
    "\n",
    "Foundational Papers to Study :\n",
    "1. The Road to Quantum Artificial Intelligence - https://arxiv.org/ftp/arxiv/papers/0705/0705.3360.pdf\n",
    "2. Quantum Neuron: an elementary building block for machine learning on quantum computers : https://arxiv.org/pdf/1711.11240\n",
    "3. Quantum algorithms for supervised and unsupervised machine learning - https://arxiv.org/pdf/1307.0411\n",
    "4. Quantum Artificial Intelligence: A Brief Survey - https://arxiv.org/pdf/2408.10726\n",
    "\n",
    "Books and Materials :\n",
    "1. Quantum Machine Learning Book by S Pattanayak - Get this book from this repo.\n",
    "2. Overall Summarised Concepts - https://blog.paperspace.com/beginners-guide-to-quantum-machine-learning/\n",
    "3. "
   ]
  },
  {
   "cell_type": "markdown",
   "metadata": {},
   "source": [
    "### Aer Simulator\n",
    "\n",
    "- In quantum computing, we can't directly observe quantum states without causing them to collapse\n",
    "- Aer is a high-performance quantum circuit simulator\n",
    "- It allows us to simulate quantum circuits on classical computers\n",
    "- Provides different backends like:\n",
    "\n",
    "    - qasm_simulator: Performs quantum circuit simulations\n",
    "    - statevector_simulator: Tracks quantum state evolution\n",
    "    - unitary_simulator: Computes circuit's unitary matrix\n",
    "\n",
    "Essential for testing and developing quantum algorithms before running on real quantum hardware.\n",
    "\n",
    "-----"
   ]
  },
  {
   "cell_type": "markdown",
   "metadata": {},
   "source": [
    "### Aer Simulator\n",
    "\n",
    "- In quantum computing, we can't directly observe quantum states without causing them to collapse\n",
    "- Aer is a high-performance quantum circuit simulator\n",
    "- It allows us to simulate quantum circuits on classical computers\n",
    "- Provides different backends like:\n",
    "\n",
    "    - qasm_simulator: Performs quantum circuit simulations\n",
    "    - statevector_simulator: Tracks quantum state evolution\n",
    "    - unitary_simulator: Computes circuit's unitary matrix\n",
    "\n",
    "Essential for testing and developing quantum algorithms before running on real quantum hardware.\n",
    "\n",
    "-----"
   ]
  },
  {
   "cell_type": "markdown",
   "metadata": {},
   "source": [
    "### Statevector\n",
    "\n",
    "- Represents the complete quantum state of a quantum system\n",
    "- A mathematical vector describing the probabilistic state of qubits\n",
    "- Contains complex numbers representing amplitudes of |0⟩ and |1⟩ states\n",
    "- Allows visualization of quantum state before measurement\n",
    "- Example: \n",
    "    - [1, 0] means 100% in |0⟩ state, \n",
    "    - [0, 1] means 100% in |1⟩ state, \n",
    "    - [1/√2, 1/√2] means equal superposition\n",
    "\n",
    "------"
   ]
  },
  {
   "cell_type": "markdown",
   "metadata": {},
   "source": [
    "### Need to Measure the Qubit\n",
    "\n",
    "- Quantum states are probabilistic\n",
    "- Measurement collapses the quantum state to a classical state (0 or 1)\n",
    "- Without measurement, we can't observe the quantum computation results\n",
    "- Measurement forces the qubit to choose either |0⟩ or |1⟩\n",
    "- Provides classical output from quantum computation\n",
    "\n",
    "------"
   ]
  },
  {
   "cell_type": "markdown",
   "metadata": {},
   "source": [
    "### Transpile\n",
    "\n",
    "- Converts a high-level quantum circuit to a format executable by a specific quantum backend\n",
    "- Optimizes the circuit for:\n",
    "    - Specific quantum hardware constraints\n",
    "    - Reducing gate count\n",
    "    - Minimizing quantum computation errors\n",
    "- Translates abstract quantum gates to physically implementable operations\n",
    "- Crucial for running circuits on real or simulated quantum computers\n",
    "\n",
    "-------"
   ]
  },
  {
   "cell_type": "markdown",
   "metadata": {},
   "source": [
    "### Shots\n",
    "\n",
    "- Number of times a quantum circuit is executed\n",
    "- Each \"shot\" is a complete quantum circuit run with measurement\n",
    "- Helps understand probabilistic quantum state\n",
    "- More shots = more statistical confidence in results\n",
    "\n",
    "- Example: 1000 shots means the circuit is run 1000 times\n",
    "- Allows observation of quantum state probabilities\n",
    "\n",
    "\n",
    "------"
   ]
  },
  {
   "cell_type": "markdown",
   "metadata": {},
   "source": [
    "### CNOT Gate : (Controlled-NOT Gate)\n",
    "It operates on two qubits: a control qubit and a target qubit. Here's what it does:\n",
    "1. If the control qubit is in state ∣0⟩ :\n",
    "    - The target qubit remains unchanged.\n",
    "\n",
    "2. If the control qubit is in state ∣1⟩:\n",
    "    - The target qubit is flipped (NOT operation).\n",
    "\n",
    "The CNOT gate's behavior can be understood with this truth table:\n",
    "\n",
    "**Control(Input), Target(Input), Control(Output), Target(Output)**\n",
    "\n",
    "0,0,0,0\n",
    "\n",
    "0,1,0,1\n",
    "\n",
    "1,0,1,1\n",
    "\n",
    "1,1,1,0\n",
    "\n",
    "The control qubit’s state is unchanged.\n",
    "The target qubit is flipped only if the control qubit is ∣1⟩.\n",
    "\n",
    ".\n",
    ".\n",
    ".\n",
    "\n",
    "It operates on the two-qubit state vector \n",
    "[∣00⟩,∣01⟩,∣10⟩,∣11⟩].\n",
    "\n",
    "- If the state is ∣00⟩ or ∣01⟩, the CNOT gate does nothing (control is ∣0⟩).\n",
    "- If the state is ∣10⟩, it flips the target, changing it to ∣11⟩.\n",
    "- If the state is ∣11⟩, it flips the target, changing it to ∣10⟩.\n",
    "\n",
    "\n",
    "**Why is CNOT Important?**\n",
    "- Entanglement: A key tool for creating entangled qubits.\n",
    "- Logic Gates: Forms the basis of more complex quantum gates and quantum algorithms.\n",
    "- Reversible Computation: Ensures no information is lost, preserving quantum coherence.\n",
    "\n",
    "\n",
    "**CNOT in Entanglement :**\n",
    "1. Start with ∣00⟩\n",
    "2. Apply a Hadamard gate to the control qubit (∣0⟩ + ∣1⟩)/√2\n",
    "3. Apply a CNOT gate:\n",
    "    - When control is ∣0⟩, the target remains ∣0⟩.\n",
    "    - When control is ∣1⟩, the target flips to ∣1⟩.\n",
    "\n",
    "This results in **Bell State :**\n",
    "∣ψ⟩= (|00⟩+∣11⟩)/√2\n",
    "​\n",
    "\n",
    "Youtube Link - https://www.youtube.com/watch?v=uD85zDIomdU\n",
    "\n",
    "---------------------"
   ]
  },
  {
   "cell_type": "markdown",
   "metadata": {},
   "source": [
    "### Hadamard Gate (H-gate)\n",
    "The Hadamard gate is a fundamental quantum gate that creates superposition.\n",
    "\n",
    "#### Mathematical Representation:\n",
    "\n",
    "- Transforms |0⟩ to (|0⟩ + |1⟩)/√2\n",
    "- Transforms |1⟩ to (|0⟩ - |1⟩)/√2\n",
    "- Creates equal probability of measuring 0 or 1\n",
    "\n",
    "\n",
    "#### Key Properties:\n",
    "\n",
    "- Creates quantum superposition\n",
    "- Reversible (applying H twice returns to original state)\n",
    "- Crucial for quantum algorithms like quantum teleportation\n",
    "\n",
    "Youtube Link - https://www.youtube.com/watch?v=RTUZ9tfbL1o"
   ]
  },
  {
   "cell_type": "code",
   "execution_count": 1,
   "metadata": {},
   "outputs": [
    {
     "data": {
      "text/plain": [
       "<qiskit.circuit.instructionset.InstructionSet at 0x7ecf0fd0bd30>"
      ]
     },
     "execution_count": 1,
     "metadata": {},
     "output_type": "execute_result"
    }
   ],
   "source": [
    "### Using Hadamard Gate\n",
    "from qiskit import QuantumCircuit\n",
    "from qiskit_aer import Aer\n",
    "from qiskit.quantum_info import Statevector\n",
    "import numpy as np\n",
    "\n",
    "# Create quantum circuit\n",
    "qc = QuantumCircuit(1)\n",
    "\n",
    "# Create superposition with Hadamard gate\n",
    "qc.h(0)"
   ]
  },
  {
   "cell_type": "code",
   "execution_count": 2,
   "metadata": {},
   "outputs": [
    {
     "name": "stdout",
     "output_type": "stream",
     "text": [
      "Statevector after H-gate:\n",
      "Statevector([0.70710678+0.j, 0.70710678+0.j],\n",
      "            dims=(2,))\n"
     ]
    }
   ],
   "source": [
    "# Get statevector\n",
    "sv = Statevector.from_instruction(qc)\n",
    "print(\"Statevector after H-gate:\")\n",
    "print(sv)"
   ]
  },
  {
   "cell_type": "code",
   "execution_count": 3,
   "metadata": {},
   "outputs": [
    {
     "name": "stdout",
     "output_type": "stream",
     "text": [
      "\n",
      "Measurement Probabilities:\n",
      "Probability of |0⟩: 0.50\n",
      "Probability of |1⟩: 0.50\n"
     ]
    }
   ],
   "source": [
    "# Probabilities of measurement\n",
    "probs = np.abs(sv.data)**2\n",
    "print(\"\\nMeasurement Probabilities:\")\n",
    "print(f\"Probability of |0⟩: {probs[0]:.2f}\")\n",
    "print(f\"Probability of |1⟩: {probs[1]:.2f}\")\n"
   ]
  },
  {
   "cell_type": "code",
   "execution_count": 4,
   "metadata": {},
   "outputs": [],
   "source": [
    "# Simulate multiple shots\n",
    "simulator = Aer.get_backend('qasm_simulator')\n",
    "qc.measure_all()"
   ]
  },
  {
   "cell_type": "code",
   "execution_count": 5,
   "metadata": {},
   "outputs": [
    {
     "name": "stdout",
     "output_type": "stream",
     "text": [
      "\n",
      "10 Shots Results:\n",
      "1: 4 times (40.00%)\n",
      "0: 6 times (60.00%)\n",
      "\n",
      "100 Shots Results:\n",
      "1: 51 times (51.00%)\n",
      "0: 49 times (49.00%)\n",
      "\n",
      "1000 Shots Results:\n",
      "0: 489 times (48.90%)\n",
      "1: 511 times (51.10%)\n",
      "\n",
      "10000 Shots Results:\n",
      "1: 4917 times (49.17%)\n",
      "0: 5083 times (50.83%)\n"
     ]
    }
   ],
   "source": [
    "# Different shot counts\n",
    "shot_counts = [10, 100, 1000, 10000]\n",
    "for shots in shot_counts:\n",
    "    job = simulator.run(qc, shots=shots)\n",
    "    result = job.result()\n",
    "    counts = result.get_counts()\n",
    "    print(f\"\\n{shots} Shots Results:\")\n",
    "    for state, count in counts.items():\n",
    "        print(f\"{state}: {count} times ({count/shots*100:.2f}%)\")"
   ]
  },
  {
   "cell_type": "markdown",
   "metadata": {},
   "source": [
    "### Transpilation in Qiskit"
   ]
  },
  {
   "cell_type": "code",
   "execution_count": 6,
   "metadata": {},
   "outputs": [],
   "source": [
    "# 1. Basis Gate Transpile\n",
    "from qiskit.compiler import transpile\n",
    "\n",
    "# Standard transpilation\n",
    "transpiled_circuit = transpile(qc, simulator)"
   ]
  },
  {
   "cell_type": "markdown",
   "metadata": {},
   "source": [
    "Transpiler Options for QASM Simulator:\n",
    "\n",
    "- basis_gates: Specify allowed gate set\n",
    "- optimization_level: Circuit optimization intensity\n",
    "- seed_transpiler: Reproducible transpilation"
   ]
  },
  {
   "cell_type": "code",
   "execution_count": 7,
   "metadata": {},
   "outputs": [],
   "source": [
    "# Optimization Levels : Qiskit provides 0-3 optimization levels:\n",
    "# Different optimization levels\n",
    "transpiled_circuit_0 = transpile(qc, simulator, optimization_level=0)  # Minimal optimization\n",
    "transpiled_circuit_1 = transpile(qc, simulator, optimization_level=1)  # Light optimization\n",
    "transpiled_circuit_2 = transpile(qc, simulator, optimization_level=2)  # Medium optimization\n",
    "transpiled_circuit_3 = transpile(qc, simulator, optimization_level=3)  # Highest optimization"
   ]
  },
  {
   "cell_type": "markdown",
   "metadata": {},
   "source": [
    "### ADVANCED QUANTUM CIRCUIT TRANSPILATION"
   ]
  },
  {
   "cell_type": "code",
   "execution_count": 8,
   "metadata": {},
   "outputs": [],
   "source": [
    "from qiskit import QuantumCircuit\n",
    "from qiskit_aer import Aer\n",
    "from qiskit.compiler import transpile\n"
   ]
  },
  {
   "cell_type": "code",
   "execution_count": 9,
   "metadata": {},
   "outputs": [],
   "source": [
    "# Create a more complex circuit\n",
    "qc = QuantumCircuit(2, 2)\n",
    "qc.h(0)      # Hadamard on first qubit\n",
    "qc.cx(0, 1)  # Controlled-NOT (entanglement)\n",
    "qc.measure([0,1], [0,1])\n",
    "\n",
    "# Get simulator backend\n",
    "simulator = Aer.get_backend('qasm_simulator')"
   ]
  },
  {
   "cell_type": "code",
   "execution_count": 10,
   "metadata": {},
   "outputs": [
    {
     "name": "stdout",
     "output_type": "stream",
     "text": [
      "Original Circuit Depth: 3\n",
      "Transpiled Circuit Depth: 3\n",
      "Gate Map: OrderedDict({'measure': 2, 'u': 1, 'cx': 1})\n"
     ]
    }
   ],
   "source": [
    "# Advanced transpilation\n",
    "transpiled_circuit = transpile(\n",
    "    qc, \n",
    "    simulator, \n",
    "    optimization_level=2,  # Medium optimization\n",
    "    basis_gates=['u', 'cx'],  # Specify basis gate set\n",
    "    seed_transpiler=42  # Reproducibility\n",
    ")\n",
    "\n",
    "# Print transpilation details\n",
    "print(\"Original Circuit Depth:\", qc.depth())\n",
    "print(\"Transpiled Circuit Depth:\", transpiled_circuit.depth())\n",
    "print(\"Gate Map:\", transpiled_circuit.count_ops())"
   ]
  },
  {
   "cell_type": "markdown",
   "metadata": {},
   "source": [
    "----\n",
    "#### Key Takeaways:\n",
    "\n",
    "- Hadamard gate creates superposition\n",
    "- Transpilation optimizes quantum circuits\n",
    "- QASM simulator is best for initial quantum algorithm development"
   ]
  }
 ],
 "metadata": {
  "kernelspec": {
   "display_name": ".quantumvenv",
   "language": "python",
   "name": "python3"
  },
  "language_info": {
   "codemirror_mode": {
    "name": "ipython",
    "version": 3
   },
   "file_extension": ".py",
   "mimetype": "text/x-python",
   "name": "python",
   "nbconvert_exporter": "python",
   "pygments_lexer": "ipython3",
   "version": "3.12.3"
  }
 },
 "nbformat": 4,
 "nbformat_minor": 2
}
